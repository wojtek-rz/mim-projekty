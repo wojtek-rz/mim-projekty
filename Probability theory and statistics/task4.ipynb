{
 "cells": [
  {
   "cell_type": "markdown",
   "metadata": {},
   "source": [
    "**Problem 5c (Chi-square independence test).** \n",
    "You are given the results of IPSOS exit polls for 2015 parliamentary elections in Poland in table **data**. Decide if we can assume that gender and voting preferences are independent. To this end:\n",
    " * Compute row totals $r_i$, column totals $c_j$, and overall total $N$.\n",
    " * If the variables are independent, we expect to see $f_{ij} = r_i c_j / N$ in $i$-th row $j$-th column.\n",
    " * Compute the test statistic as before, i.e. $$ S = \\sum_{ij} \\frac{\\left(f_{ij}-X_{ij}\\right)^2}{f_{ij}}.$$\n",
    " * Again test vs $\\chi^2$ CDF. However, if the variables are independent, we only have $(r-1)(c-1)$ degrees of freedom here (we only need to know the row and column totals).\n",
    " * The KORWiN party looks like an obvious outlier. Note, when we work with categorical variables we should not just remove a category -- it is better to aggregate them. Introduce an aggregated category by summing the votes for the parties with less than 5% total votes and repeat the experiment.\n",
    " \n",
    "**Note:** This kind of data is (to the best of our knowledge) not available online. It has been recreated based on\n",
    "online infographics and other tidbits of information available online. It is definitely not completely accurate, hopefully it is not very far off. Moreover, exit polls do not necessary reflect the actual distribution of the population."
   ]
  },
  {
   "cell_type": "code",
   "execution_count": 22,
   "metadata": {},
   "outputs": [],
   "source": [
    "import numpy as np\n",
    "# Rows: women, men\n",
    "# Columns:          PiS, PO, Kukiz, Nowoczesna, Lewica, PSL, Razem, KORWiN\n",
    "data = np.array([[ 17508, 11642,  3308,  3131,  2911,  2205,  1852, 1235],\n",
    "                 [ 17672,  9318,  4865,  3259,  3029,  2479,  1606, 3259]])"
   ]
  },
  {
   "attachments": {},
   "cell_type": "markdown",
   "metadata": {},
   "source": [
    "Hipoteza $H_0$ - wybór partii politycznej w głosowaniu jest niezależny od płci\n",
    "\n",
    "p-wartość - prawdopodobieństwo, że dane z próbki są prawdopodobnymi wynikami dla sytuacji $H_0$. Jeśli mała, to znaczy, że hipoteza jest fałszywa\n",
    "\n",
    "Hyphotesis $H_0$ - voting preferences are independent of the sex\n",
    "\n",
    "p-value - probability that the sample data is consistent with a true null hypothesis. If small, it indicates that the null hypothesis is false."
   ]
  },
  {
   "attachments": {},
   "cell_type": "markdown",
   "metadata": {},
   "source": [
    "### Statystyka testowa"
   ]
  },
  {
   "cell_type": "code",
   "execution_count": 94,
   "metadata": {},
   "outputs": [],
   "source": [
    "import scipy\n",
    "\n",
    "def calculate_p_value(data):\n",
    "    row_sums = data.sum(axis=1)\n",
    "    column_sums = data.sum(axis=0)\n",
    "    total = data.sum()\n",
    "\n",
    "    # calculate dot product of row sums and column sums\n",
    "    expected = np.matmul(row_sums[:, np.newaxis], column_sums[np.newaxis, :]) / total\n",
    "\n",
    "    S = 0\n",
    "    for i in range(len(row_sums)):\n",
    "        for j in range(len(column_sums)):\n",
    "            S += (data[i, j] - expected[i, j]) ** 2 / expected[i, j]\n",
    "\n",
    "    #Obliczanie p-wartości\n",
    "    p_value = 1 - scipy.stats.chi2.cdf(S, (len(row_sums) - 1) * (len(column_sums) - 1))\n",
    "    return p_value\n"
   ]
  },
  {
   "cell_type": "code",
   "execution_count": 95,
   "metadata": {},
   "outputs": [
    {
     "name": "stdout",
     "output_type": "stream",
     "text": [
      "p-value = 0.00\n"
     ]
    }
   ],
   "source": [
    "p_value = calculate_p_value(data)\n",
    "print(\"p-value = {:.2f}\".format(p_value))"
   ]
  },
  {
   "attachments": {},
   "cell_type": "markdown",
   "metadata": {},
   "source": [
    "### Wniosek\n",
    "Hipoteza, że ludzie głosują tak samo niezależnie od płci jest fałszywa, p-wartośc jest mniejsza od 0.05.\n",
    "\n",
    "Odrzućmy jednak małe partie (< 6% głosów), które mają bardziej radykalne poglądy i połączmy je w jedną kategorię."
   ]
  },
  {
   "cell_type": "code",
   "execution_count": 102,
   "metadata": {},
   "outputs": [
    {
     "name": "stdout",
     "output_type": "stream",
     "text": [
      "[0.39404563 0.23476965 0.09154448 0.07157338 0.066533   0.05246475\n",
      " 0.03873251 0.05033659]\n",
      "p-value = 0.00\n"
     ]
    }
   ],
   "source": [
    "THRESHOLD = 0.06\n",
    "odsetek =  data.sum(axis=0)/data.sum()\n",
    "print(odsetek)\n",
    "to_agregate = np.nonzero(odsetek < THRESHOLD)[0]\n",
    "rest = np.nonzero(odsetek >= THRESHOLD)[0]\n",
    "agregated_party = data[:, to_agregate].sum(axis=1)[:, np.newaxis]\n",
    "\n",
    "new_data = np.concatenate((data[:, rest], agregated_party), axis=1)\n",
    "p_value = calculate_p_value(new_data)\n",
    "print(\"p-value = {:.2f}\".format(p_value))"
   ]
  },
  {
   "attachments": {},
   "cell_type": "markdown",
   "metadata": {},
   "source": [
    "Zatem po złączeniu małych partii p_value nadal jest bardzo małe, stąd musimy odrzucić hipotezę.\n",
    "\n",
    "Sprawdźmy nasz wynik korzystająć z gotowej funkcji w bibliotece scipy na naszych danych:"
   ]
  },
  {
   "cell_type": "code",
   "execution_count": 101,
   "metadata": {},
   "outputs": [
    {
     "name": "stdout",
     "output_type": "stream",
     "text": [
      "p-value = 0.00\n"
     ]
    }
   ],
   "source": [
    "p_value = scipy.stats.chi2_contingency(new_data)[1]\n",
    "print(\"p-value = {:.2f}\".format(p_value))"
   ]
  }
 ],
 "metadata": {
  "kernelspec": {
   "display_name": "Python 3",
   "language": "python",
   "name": "python3"
  },
  "language_info": {
   "codemirror_mode": {
    "name": "ipython",
    "version": 3
   },
   "file_extension": ".py",
   "mimetype": "text/x-python",
   "name": "python",
   "nbconvert_exporter": "python",
   "pygments_lexer": "ipython3",
   "version": "3.10.6"
  },
  "orig_nbformat": 4,
  "vscode": {
   "interpreter": {
    "hash": "916dbcbb3f70747c44a77c7bcd40155683ae19c65e1c03b4aa3499c5328201f1"
   }
  }
 },
 "nbformat": 4,
 "nbformat_minor": 2
}
