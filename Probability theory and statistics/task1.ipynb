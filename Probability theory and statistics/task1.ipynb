{
 "cells": [
  {
   "cell_type": "markdown",
   "metadata": {},
   "source": [
    "**Problem 1.** Implement a function, that chooses random dates out of \n",
    " until a repeat occurs. The function should return the number of the step in which that happened. Run the function 10 000\n",
    " times. Plot a histogram of the return values"
   ]
  },
  {
   "cell_type": "markdown",
   "metadata": {},
   "source": [
    "**Problem 2.** Consider the problem of sampling with known probabilities $p_1,\\ldots,p_d$. Suppose that you have a black-box that samples with probabilities $q_1,\\ldots,q_d$ that are close to $p_1,\\ldots,p_d$, say\n",
    "$$ \\forall_{i=1,\\ldots,n} p_i \\le (1+\\varepsilon)q_i.$$\n",
    "\n",
    "* How can you use this black-box to sample with probabilities $p_1,\\ldots,p_d$? It is expected, that the running time of the algorithm would be non-deterministic.\n",
    "* Prove that your algorithm is correct.\n",
    "* Implement the algorithm and use it to give a faster implementation for **Problem 1**."
   ]
  },
  {
   "cell_type": "code",
   "execution_count": 1,
   "metadata": {},
   "outputs": [],
   "source": [
    "import numpy as np\n",
    "import pandas as pd\n",
    "\n",
    "data = pd.read_csv('us_births_69_88.csv')\n",
    "births = np.array(data['births'])\n",
    "total_births = np.sum(births)"
   ]
  },
  {
   "cell_type": "code",
   "execution_count": 2,
   "metadata": {},
   "outputs": [],
   "source": [
    "probabilities = births / total_births\n",
    "p_max = np.max(probabilities)\n",
    "\n",
    "def sampling_function():\n",
    "    while True:\n",
    "        day = np.random.randint(12 * 31)\n",
    "        uni = np.random.uniform(0, 1)\n",
    "        accept_probability = probabilities[day] / p_max\n",
    "        if uni < accept_probability:\n",
    "            return day"
   ]
  },
  {
   "cell_type": "code",
   "execution_count": 3,
   "metadata": {},
   "outputs": [],
   "source": [
    "def find_first_repetition():\n",
    "    sampled = set()\n",
    "    date = sampling_function()\n",
    "    counter = 1\n",
    "    while date not in sampled:\n",
    "        sampled.add(date)\n",
    "        date = sampling_function()\n",
    "        counter += 1\n",
    "    return counter\n",
    "\n",
    "result = [find_first_repetition() for i in range(10_000)]"
   ]
  },
  {
   "cell_type": "markdown",
   "metadata": {},
   "source": [
    "## Argumentation\n",
    "\n",
    "Let's denote by $Q_i$ the drawing of the $i$-th day with an equal probability distribution, hence for each $$\\forall_{i=1,...,n}: P(Q_i) = \\frac{1}{n}$$\n",
    "\n",
    "The second draw will mean acceptance or rejection of the drawn day. Let $A$ denote the acceptance of any day and let $P(A | Q_i)=\\frac{p_i}{p_{max}}$, where $p_{max}$ is the largest among $p_i$.\n",
    "\n",
    "The algorithm will consist first of drawing the day with equal probability, and then accepting the drawn day. If we reject the day, we repeat the whole process.\n",
    "\n",
    "As a result, taking into account only accepted values, we get the probability of drawing the $i$-th day: $$ P(Q_i | A) = \\frac{P(A | Q_i) \\cdot P(Q_i)}{P(A)} = \\frac{(\\frac{p_i}{p_{max}})\\cdot \\frac{1}{n}}{\\sum_{i=1}^n P(A | Q_i)\\cdot P(Q_i)} = \\frac{(\\frac{p_i}{p_{max}})\\cdot \\frac{1}{n}}{\\sum_{i=1}^n \\frac{p_i}{p_{max}} \\cdot \\frac{1}{n}} = \\frac{p_i}{\\sum_{i=1}^n p_i} = p_i$$"
   ]
  },
  {
   "cell_type": "code",
   "execution_count": 4,
   "metadata": {},
   "outputs": [
    {
     "data": {
      "image/png": "[encoded data removed]",
      "text/plain": [
       "<Figure size 640x480 with 1 Axes>"
      ]
     },
     "metadata": {},
     "output_type": "display_data"
    }
   ],
   "source": [
    "import matplotlib.pyplot as plt\n",
    "import seaborn; seaborn.set()\n",
    "\n",
    "plt.hist(result, bins=range(70))\n",
    "plt.show()"
   ]
  }
 ],
 "metadata": {
  "kernelspec": {
   "display_name": "Python 3.10.6 64-bit",
   "language": "python",
   "name": "python3"
  },
  "language_info": {
   "codemirror_mode": {
    "name": "ipython",
    "version": 3
   },
   "file_extension": ".py",
   "mimetype": "text/x-python",
   "name": "python",
   "nbconvert_exporter": "python",
   "pygments_lexer": "ipython3",
   "version": "3.10.6"
  },
  "orig_nbformat": 4,
  "vscode": {
   "interpreter": {
    "hash": "916dbcbb3f70747c44a77c7bcd40155683ae19c65e1c03b4aa3499c5328201f1"
   }
  }
 },
 "nbformat": 4,
 "nbformat_minor": 2
}
