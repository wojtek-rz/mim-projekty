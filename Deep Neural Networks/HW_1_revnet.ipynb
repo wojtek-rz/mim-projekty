{
  "cells": [
    {
      "attachments": {},
      "cell_type": "markdown",
      "metadata": {
        "id": "8Q-lfeg_Paq_"
      },
      "source": [
        "# Task Overview\n",
        "\n",
        "Your task will be to implement a *RevNet* (Reversible Residual Network) – a variant of ResNet where each layer's activations can be reconstructed exactly from the next layer. Therefore, the activations for most layers need not be stored in memory to perform backpropagation.\n",
        "\n",
        "You can find more information about RevNet here: [link](https://arxiv.org/pdf/1707.04585.pdf)\n",
        "\n",
        "You should use an MLP architecture trained on the MNIST dataset. You should implement the network in numpy.\n",
        "\n",
        "Tasks:\n",
        "1. (10pt) Fill missing code below\n",
        "  - 1pt implement the `__init__` method\n",
        "  - 2pt implement the feedforward method\n",
        "  - 2pt implement the mini-batch update\n",
        "  - 5pt implement the backpropagation (note: if you implement backpropagation example-by-example instead of whole minibatch at once, you will get maximum of 2pt for this part)\n",
        "2. Train the models (find proper hyperparameters). Visualize training of your best model (plot training and test loss/accuracy in time). Your model should reach at least 96% accuracy. Use clear ml for logging your scores. Make a comparison of memory usage for your network and the network you implemented in lab 3.\n",
        "  - 1pt for accuracy above 96%\n",
        "  - 1pt for visualizations (we recommend downloading plots from clear ml)\n",
        "  - 2pt if [clear ml](https://clear.ml/docs/latest/docs/) used properly\n",
        "  - 1pt for comparing memory usage.\n",
        "\n",
        "\n",
        "\n",
        "## Potential questions, clarifications\n",
        "- Q: Can I save the output of the last layer before classification (a -> 10)?\n",
        "  - Yes.\n",
        "- Q: MNIST has only one channel, how do I split that into two groups for implementing ReVNet blocks?\n",
        "  - You can split activations into two groups, so if a layer has size $a$ you can split it into $2 \\cdot a/2$.\n",
        "- Q: Can I modify code of ReVNet outside #Your code goes here # to include logging?\n",
        "  - Yes, in ReVNet.SGD"
      ]
    },
    {
      "attachments": {},
      "cell_type": "markdown",
      "metadata": {
        "id": "ryGy_qn8WUwl"
      },
      "source": [
        "# Imports"
      ]
    },
    {
      "cell_type": "code",
      "execution_count": null,
      "metadata": {
        "id": "VlEo6ys75a3q"
      },
      "outputs": [],
      "source": [
        "!pip install clearml --quiet\n",
        "!pip install memory-profiler --quiet"
      ]
    },
    {
      "cell_type": "code",
      "execution_count": 1,
      "metadata": {
        "id": "KjlEoB4NPYmW"
      },
      "outputs": [],
      "source": [
        "import random\n",
        "import numpy as np\n",
        "from torchvision import datasets, transforms\n",
        "import plotly.express as px"
      ]
    },
    {
      "cell_type": "code",
      "execution_count": 2,
      "metadata": {
        "id": "cysHBSEBB-Km"
      },
      "outputs": [],
      "source": [
        "%load_ext memory_profiler"
      ]
    },
    {
      "attachments": {},
      "cell_type": "markdown",
      "metadata": {
        "id": "8-2rwUh8WZ4Q"
      },
      "source": [
        "# Dataset loading\n"
      ]
    },
    {
      "cell_type": "code",
      "execution_count": 5,
      "metadata": {
        "colab": {
          "base_uri": "https://localhost:8080/"
        },
        "id": "HGOTrXouW5r2",
        "outputId": "73f04a2d-6129-440c-f605-7e2c79689e35"
      },
      "outputs": [
        {
          "name": "stdout",
          "output_type": "stream",
          "text": [
            "--2023-11-25 21:08:42--  https://s3.amazonaws.com/img-datasets/mnist.npz\n",
            "Resolving s3.amazonaws.com (s3.amazonaws.com)... "
          ]
        },
        {
          "name": "stdout",
          "output_type": "stream",
          "text": [
            "52.216.245.78, 52.217.142.192, 52.217.230.120, ...\n",
            "Connecting to s3.amazonaws.com (s3.amazonaws.com)|52.216.245.78|:443... connected.\n",
            "HTTP request sent, awaiting response... 200 OK\n",
            "Length: 11490434 (11M) [application/octet-stream]\n",
            "Saving to: ‘mnist.npz’\n",
            "\n",
            "mnist.npz           100%[===================>]  10,96M   151KB/s    in 85s     \n",
            "\n",
            "2023-11-25 21:10:24 (133 KB/s) - ‘mnist.npz’ saved [11490434/11490434]\n",
            "\n"
          ]
        }
      ],
      "source": [
        "!wget -O mnist.npz https://s3.amazonaws.com/img-datasets/mnist.npz"
      ]
    },
    {
      "cell_type": "code",
      "execution_count": 3,
      "metadata": {
        "id": "9FPRU6hiWb9P"
      },
      "outputs": [],
      "source": [
        "def load_mnist(path='mnist.npz'):\n",
        "    with np.load(path) as f:\n",
        "        x_train, _y_train = f['x_train'], f['y_train']\n",
        "        x_test, _y_test = f['x_test'], f['y_test']\n",
        "\n",
        "    x_train = x_train.reshape(-1, 28 * 28) / 255.\n",
        "    x_test = x_test.reshape(-1, 28 * 28) / 255.\n",
        "\n",
        "    y_train = np.zeros((_y_train.shape[0], 10))\n",
        "    y_train[np.arange(_y_train.shape[0]), _y_train] = 1\n",
        "\n",
        "    y_test = np.zeros((_y_test.shape[0], 10))\n",
        "    y_test[np.arange(_y_test.shape[0]), _y_test] = 1\n",
        "\n",
        "    return (x_train, y_train), (x_test, y_test)\n",
        "\n",
        "(x_train, y_train), (x_test, y_test) = load_mnist()"
      ]
    },
    {
      "attachments": {},
      "cell_type": "markdown",
      "metadata": {
        "id": "_upvHByF5-p7"
      },
      "source": [
        "# Set up clear ml"
      ]
    },
    {
      "cell_type": "code",
      "execution_count": 4,
      "metadata": {
        "id": "7Ju8QtLI6CgL"
      },
      "outputs": [
        {
          "name": "stdout",
          "output_type": "stream",
          "text": [
            "ClearML Task: created new task id=72e6fb7fa473474d819faa2d7b969f07\n",
            "2023-11-26 22:54:51,605 - clearml.Task - INFO - Storing jupyter notebook directly as code\n",
            "ClearML results page: https://app.clear.ml/projects/1801f60a804a4b128ae70e6afb5f4c0a/experiments/72e6fb7fa473474d819faa2d7b969f07/output/log\n"
          ]
        },
        {
          "name": "stderr",
          "output_type": "stream",
          "text": [
            "Retrying (Retry(total=237, connect=238, read=239, redirect=240, status=240)) after connection broken by 'NewConnectionError('<urllib3.connection.HTTPSConnection object at 0x7f80ca37ed60>: Failed to establish a new connection: [Errno -3] Temporary failure in name resolution')': /v2.23/events.add_batch\n",
            "Retrying (Retry(total=237, connect=237, read=240, redirect=240, status=240)) after connection broken by 'NewConnectionError('<urllib3.connection.HTTPSConnection object at 0x7f80ca321310>: Failed to establish a new connection: [Errno -3] Temporary failure in name resolution')': /v2.23/tasks.get_all\n",
            "Retrying (Retry(total=237, connect=237, read=240, redirect=240, status=240)) after connection broken by 'NewConnectionError('<urllib3.connection.HTTPSConnection object at 0x7f80ca321bb0>: Failed to establish a new connection: [Errno -3] Temporary failure in name resolution')': /v2.23/events.add_batch\n",
            "Retrying (Retry(total=236, connect=237, read=239, redirect=240, status=240)) after connection broken by 'NewConnectionError('<urllib3.connection.HTTPSConnection object at 0x7f80ca321970>: Failed to establish a new connection: [Errno -3] Temporary failure in name resolution')': /v2.23/events.add_batch\n",
            "Retrying (Retry(total=236, connect=236, read=240, redirect=240, status=240)) after connection broken by 'NewConnectionError('<urllib3.connection.HTTPSConnection object at 0x7f80ca3210a0>: Failed to establish a new connection: [Errno -3] Temporary failure in name resolution')': /v2.23/tasks.get_all\n"
          ]
        }
      ],
      "source": [
        "### Your code goes here ###\n",
        "\n",
        "from clearml import Task\n",
        "task = Task.init(project_name='dnn_mimuw', task_name='revnet')\n",
        "logger = task.get_logger()\n",
        "\n",
        "###########################"
      ]
    },
    {
      "attachments": {},
      "cell_type": "markdown",
      "metadata": {
        "id": "ejZmFBvkbDmk"
      },
      "source": [
        "# Network definition (as in laboratory 3)\n"
      ]
    },
    {
      "cell_type": "code",
      "execution_count": 5,
      "metadata": {
        "id": "erHufGRn-MXY"
      },
      "outputs": [
        {
          "name": "stderr",
          "output_type": "stream",
          "text": [
            "/home/wojtek/anaconda3/envs/torch/share/jupyter/nbconvert/templates/base/display_priority.j2:32: UserWarning: Your element with mimetype(s) dict_keys(['application/vnd.plotly.v1+json']) is not able to be represented.\n",
            "  {%- elif type == 'text/vnd.mermaid' -%}\n"
          ]
        }
      ],
      "source": [
        "def sigmoid(z):\n",
        "    return 1.0/(1.0+np.exp(-z))\n",
        "\n",
        "def sigmoid_prime(z):\n",
        "    # Derivative of the sigmoid\n",
        "    return sigmoid(z)*(1-sigmoid(z))\n",
        "\n",
        "class Network(object):\n",
        "    def __init__(self, sizes):\n",
        "        # initialize biases and weights with random normal distr.\n",
        "        # weights are indexed by target node first\n",
        "        self.num_layers = len(sizes)\n",
        "        self.sizes = sizes\n",
        "        self.biases = [np.random.randn(y, 1) for y in sizes[1:]]\n",
        "        self.weights = [np.random.randn(y, x)\n",
        "                        for x, y in zip(sizes[:-1], sizes[1:])]\n",
        "    def feedforward(self, a):\n",
        "        # Run the network on a batch\n",
        "        a = a.T\n",
        "        for b, w in zip(self.biases, self.weights):\n",
        "            a = sigmoid(np.matmul(w, a)+b)\n",
        "        return a\n",
        "\n",
        "    def update_mini_batch(self, mini_batch, eta):\n",
        "        # Update networks weights and biases by applying a single step\n",
        "        # of gradient descent using backpropagation to compute the gradient.\n",
        "        # The gradient is computed for a mini_batch which is as in tensorflow API.\n",
        "        # eta is the learning rate\n",
        "        nabla_b, nabla_w = self.backprop(mini_batch[0].T,mini_batch[1].T)\n",
        "\n",
        "        self.weights = [w-(eta/len(mini_batch[0]))*nw\n",
        "                        for w, nw in zip(self.weights, nabla_w)]\n",
        "        self.biases = [b-(eta/len(mini_batch[0]))*nb\n",
        "                       for b, nb in zip(self.biases, nabla_b)]\n",
        "\n",
        "    def backprop(self, x, y):\n",
        "        # For a single input (x,y) return a pair of lists.\n",
        "        # First contains gradients over biases, second over weights.\n",
        "        g = x\n",
        "        gs = [g] # list to store all the gs, layer by layer\n",
        "        fs = [] # list to store all the fs, layer by layer\n",
        "        for b, w in zip(self.biases, self.weights):\n",
        "            f = np.dot(w, g)+b\n",
        "            fs.append(f)\n",
        "            g = sigmoid(f)\n",
        "            gs.append(g)\n",
        "        # backward pass <- both steps at once\n",
        "        dLdg = self.cost_derivative(gs[-1], y)\n",
        "        dLdfs = []\n",
        "        for w,g in reversed(list(zip(self.weights,gs[1:]))):\n",
        "            dLdf = np.multiply(dLdg,np.multiply(g,1-g))\n",
        "            dLdfs.append(dLdf)\n",
        "            dLdg = np.matmul(w.T, dLdf)\n",
        "\n",
        "        dLdWs = [np.matmul(dLdf,g.T) for dLdf,g in zip(reversed(dLdfs),gs[:-1])]\n",
        "        dLdBs = [np.sum(dLdf,axis=1).reshape(dLdf.shape[0],1) for dLdf in reversed(dLdfs)]\n",
        "        return (dLdBs,dLdWs)\n",
        "\n",
        "    def evaluate(self, test_data):\n",
        "        # Count the number of correct answers for test_data\n",
        "        pred = np.argmax(self.feedforward(test_data[0]),axis=0)\n",
        "        corr = np.argmax(test_data[1],axis=1).T\n",
        "        return np.mean(pred==corr)\n",
        "\n",
        "    def cost_derivative(self, output_activations, y):\n",
        "        return (output_activations-y)\n",
        "\n",
        "    def SGD(self, training_data, epochs, mini_batch_size, eta, test_data=None):\n",
        "        x_train, y_train = training_data\n",
        "        if test_data:\n",
        "            x_test, y_test = test_data\n",
        "        for j in range(epochs):\n",
        "            for i in range(x_train.shape[0] // mini_batch_size):\n",
        "                x_mini_batch = x_train[(mini_batch_size*i):(mini_batch_size*(i+1))]\n",
        "                y_mini_batch = y_train[(mini_batch_size*i):(mini_batch_size*(i+1))]\n",
        "                self.update_mini_batch((x_mini_batch, y_mini_batch), eta)\n",
        "            if test_data:\n",
        "                print(\"Epoch: {0}, Accuracy: {1}\".format(j, self.evaluate((x_test, y_test))))\n",
        "            else:\n",
        "                print(\"Epoch: {0}\".format(j))\n"
      ]
    },
    {
      "attachments": {},
      "cell_type": "markdown",
      "metadata": {
        "id": "CKn5dbID-Fty"
      },
      "source": [
        "# ReVNet definition\n",
        "\n",
        "RevNets are composed of a series of reversible blocks. The channels (in case of MNIST: activations) in each layer are partitioned into two groups (two vectors), denoted $x_1$ and $x_2$.\n",
        "\n",
        "Forward: Each reversible block takes inputs ($x_1$, $x_2$) and produces outputs produces outputs ($y_1$, $y_2$) using functions F and G (the *residuals*). In this task, implement F and G as MLP layers.\n",
        "\n",
        "$z_1 = x_1 + \\mathcal{F}(x_2)$\n",
        "\n",
        "$y_2 = x_2 + \\mathcal{G}(z_1)$\n",
        "\n",
        "$y_1 = z_1$\n",
        "\n",
        "The expressions $y_1$ and $z_1$ have the same value, but they are separate nodes in the computation graph, with $y_2$ depending on $z_1$, not $y_1$. We use this distinction so that we can describe gradient computations in two steps: $∂ℒ/∂y_1$ is the derivative of the loss over $y_1$ when $y_2$ is a fixed constant, while $∂ℒ/∂z_1$ is the derivative over $z_1$, which influences the loss through both y1 and y2.\n",
        "\n",
        "Reverse: Each layer’s activations can be reconstructed from the next layer’s activations as follows:\n",
        "\n",
        "$x_2 = y_2 - \\mathcal{G}(y_1)$\n",
        "\n",
        "$x_1 = y_1 - \\mathcal{F}(x_2)$\n",
        "\n",
        "Backpropagation is described in the algorithm below, ($y_1$, $y_2$).\n",
        "$\\bar{y_1}$, $\\bar{y_2}$ is the gradient of the loss over $y_1$ and $y_2$, respectively"
      ]
    },
    {
      "attachments": {},
      "cell_type": "markdown",
      "metadata": {
        "id": "6VHzG5peWfqF"
      },
      "source": [
        "\n",
        "![image.png](data:image/png;base64,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)"
      ]
    },
    {
      "cell_type": "code",
      "execution_count": 6,
      "metadata": {
        "id": "QDZIWGNKWjZh"
      },
      "outputs": [],
      "source": [
        "def softmax(x):\n",
        "  ### Your code goes here ###\n",
        "  m = np.max(x)\n",
        "  if np.isnan(np.exp(x - m) / np.sum(np.exp(x - m), axis=0)).any():\n",
        "    print(\"nan!\", np.sum(np.exp(x - m), axis=0))\n",
        "  return np.exp(x - m) / np.sum(np.exp(x - m), axis=0)\n",
        "  ###########################\n",
        "\n",
        "def cross_entropy(x, y):\n",
        "  ### Your code goes here ###\n",
        "  return -np.sum(y * np.log(x + 1e-5) + (1 - y) * np.log(1 - x + 1e-5), axis=0)\n",
        "  ###########################\n",
        "\n",
        "class ReVNet(object):\n",
        "  def __init__(self, sizes):\n",
        "    self.sizes = sizes\n",
        "    # initialize biases and weights with random normal distr.\n",
        "    # weights are indexed by target node first\n",
        "    # sizes should be in form (mnist_size, a, a, a, ...,  a, 10)\n",
        "    # IMPORTANT: use at least one layer of size a -> a\n",
        "    ### Your code goes here ###\n",
        "    entry_size = sizes[0]\n",
        "    middle_size = sizes[1]\n",
        "    output_size = sizes[-1]\n",
        "\n",
        "    self.w_entry = np.random.randn(middle_size, entry_size) / np.sqrt(entry_size)\n",
        "    self.b_entry = np.random.randn(middle_size, 1)\n",
        "    self.w_fgs = np.random.randn(len(sizes) - 3, 2, middle_size // 2, middle_size // 2) / np.sqrt(middle_size // 2)\n",
        "    self.b_fgs = np.random.randn(len(sizes) - 3, 2, middle_size // 2, 1)\n",
        "    self.w_exit = np.random.randn(output_size, middle_size) / np.sqrt(middle_size)\n",
        "    self.b_exit = np.random.randn(output_size, 1)\n",
        "    \n",
        "    def sigmoid(x):\n",
        "      s = 1.0/(1.0+np.exp(-x))\n",
        "      return s, s*(1 - s)\n",
        "    \n",
        "    def relu(x):\n",
        "      return np.maximum(0, x), (x > 0).astype(int)\n",
        "    \n",
        "    self.activation = sigmoid\n",
        "\n",
        "    def block_forward(activation, x1, x2, wf, bf, wg, bg):\n",
        "      f_res, _ = activation(np.matmul(wf, x2) + bf)\n",
        "      y1 = f_res + x1\n",
        "      g_res, _ = activation(np.matmul(wg, y1) + bg)\n",
        "      y2 = x2 + g_res\n",
        "      return y1, y2\n",
        "    \n",
        "    def block_reverse(activation, y1, y2, dLdy1, dLdy2, wf, bf, wg, bg):\n",
        "      z1 = y1\n",
        "      g_res, g_res_prime = activation(np.matmul(wg, z1) + bg)\n",
        "      x2 = y2 - g_res\n",
        "      f_res, f_res_prime = activation(np.matmul(wf, x2) + bf)\n",
        "      x1 = z1 - f_res\n",
        "      dLdz1 = dLdy1 + np.matmul(wg.T, dLdy2 * g_res_prime)\n",
        "      dLdx2 = dLdy2 + np.matmul(wf.T, dLdz1 * f_res_prime)\n",
        "      dLdx1 = dLdz1\n",
        "      dLdwf = np.matmul(dLdz1 * f_res_prime, x2.T)\n",
        "      dLdbf = np.sum(dLdz1 * f_res_prime, axis=1).reshape(-1, 1)\n",
        "      dLdwg = np.matmul(dLdy2 * g_res_prime, z1.T)\n",
        "      dLdbg = np.sum(dLdy2 * f_res_prime, axis=1).reshape(-1, 1)\n",
        "      return x1, x2, dLdx1, dLdx2, np.array([dLdwf, dLdwg]), np.array([dLdbf, dLdbg])\n",
        "\n",
        "    self.block_forward = block_forward\n",
        "    self.block_reverse = block_reverse\n",
        "\n",
        "    ###########################\n",
        "\n",
        "  def feedforward(self, a):\n",
        "    # Run the network\n",
        "    ### Your code goes here ###\n",
        "    x, _ = self.activation(np.matmul(self.w_entry, a.T) + self.b_entry)\n",
        "    \n",
        "    x1, x2 = np.split(x, 2)\n",
        "    for w_fg, b_fg in zip(self.w_fgs, self.b_fgs):\n",
        "      w_f, w_g = w_fg\n",
        "      b_f, b_g = b_fg\n",
        "      x1, x2 = self.block_forward(self.activation, x1, x2, w_f, b_f, w_g, b_g)\n",
        "\n",
        "    x = np.concatenate((x1, x2))\n",
        "    z = np.matmul(self.w_exit, x) + self.b_exit\n",
        "    return softmax(z)\n",
        "\n",
        "    ##########################\n",
        "\n",
        "  def update_mini_batch(self, x_mini_batch, y_mini_batch, eta, verb=False):\n",
        "    # Update networks weights and biases by applying a single step\n",
        "    # of gradient descent using backpropagation to compute the gradient.\n",
        "    # The gradient is computed for a mini_batch.\n",
        "    # eta is the learning rate\n",
        "    ### Your code goes here ###\n",
        "\n",
        "    n_samples = x_mini_batch.shape[0]\n",
        "    \n",
        "    delta_entry, delta_exit, (dLdb_fgs, dLdw_fgs) = self.backpropagation(x_mini_batch.T,y_mini_batch.T)\n",
        "    self.b_entry -= delta_entry[0] * eta / n_samples\n",
        "    self.w_entry -= delta_entry[1] * eta / n_samples\n",
        "    self.b_exit  -= delta_exit[0] * eta / n_samples\n",
        "    self.w_exit  -= delta_exit[1] * eta / n_samples\n",
        "    self.w_fgs -= dLdw_fgs * eta / n_samples\n",
        "    self.b_fgs -= dLdb_fgs * eta / n_samples\n",
        "\n",
        "    ###########################\n",
        "\n",
        "\n",
        "  def backpropagation(self, x, y):\n",
        "    ### Your code goes here ###\n",
        "    input = x\n",
        "    dLdw_fgs = np.zeros(self.w_fgs.shape)\n",
        "    dLdb_fgs = np.zeros(self.b_fgs.shape)\n",
        "\n",
        "    z_entry = np.matmul(self.w_entry, input) + self.b_entry\n",
        "    x, dgdf_z_entry = self.activation(z_entry)\n",
        "\n",
        "    x1, x2 = np.split(x, 2)\n",
        "    for w_fg, b_fg in zip(self.w_fgs, self.b_fgs):\n",
        "      w_f, w_g = w_fg\n",
        "      b_f, b_g = b_fg\n",
        "      x1, x2 = self.block_forward(self.activation, x1, x2, w_f, b_f, w_g, b_g)\n",
        "    \n",
        "    x = np.concatenate((x1, x2))\n",
        "    z_exit = np.matmul(self.w_exit, x) + self.b_exit\n",
        "\n",
        "    dLdz_exit = self.cost_derivative(softmax(z_exit), y)\n",
        "    \n",
        "    dLdw_exit = np.matmul(dLdz_exit, x.T)\n",
        "    dLdb_exit = dLdz_exit.sum(axis=1).reshape(-1, 1)\n",
        "\n",
        "    dLdx = np.matmul(self.w_exit.T, dLdz_exit)\n",
        "    dLdx1, dLdx2 = np.split(dLdx, 2)\n",
        "    for w_fg, b_fg, i in reversed(list(zip(self.w_fgs, self.b_fgs, np.arange(len(self.w_fgs))))):\n",
        "      w_f, w_g = w_fg\n",
        "      b_f, b_g = b_fg\n",
        "      x1, x2, dLdx1, dLdx2, dLdw_fg, dLdb_fg = self.block_reverse(self.activation, x1, x2, dLdx1, dLdx2, w_f, b_f, w_g, b_g)\n",
        "      dLdw_fgs[i] = dLdw_fg\n",
        "      dLdb_fgs[i] = dLdb_fg\n",
        "\n",
        "    dLdz_entry = np.concatenate((dLdx1, dLdx2)) * dgdf_z_entry\n",
        "    dLdw_entry = np.matmul(dLdz_entry, input.T)\n",
        "    dLdb_entry = dLdz_entry.sum(axis=1).reshape(-1, 1)\n",
        "\n",
        "    return (dLdb_entry, dLdw_entry), (dLdb_exit, dLdw_exit), (dLdb_fgs, dLdw_fgs)\n",
        "    ###########################\n",
        "\n",
        "  def cost_derivative(self, output_activations, y):\n",
        "    return (output_activations-y)\n",
        "\n",
        "  def evaluate(self, x_test_data, y_test_data):\n",
        "    # Count the number of correct answers for test_data\n",
        "    y_pred = self.feedforward(x_test_data)\n",
        "    loss = np.mean(cross_entropy(y_pred, y_test_data.T))\n",
        "\n",
        "    pred = np.argmax(y_pred, axis=0)\n",
        "    corr = np.argmax(y_test_data,axis=1).T\n",
        "    acc = np.mean(pred==corr)\n",
        "    \n",
        "    return acc, loss\n",
        "\n",
        "\n",
        "  def SGD(self, training_data, epochs, mini_batch_size, eta, test_data=None):\n",
        "    train_accuracies, test_accuracies = [], []\n",
        "    train_losses, test_losses = [], []\n",
        "    task.set_parameters({\n",
        "      \"sizes\": self.sizes,\n",
        "      \"epochs\": epochs,\n",
        "      \"mini_batch_size\": mini_batch_size,\n",
        "      \"eta\": eta,\n",
        "    })\n",
        "\n",
        "    x_train, y_train = training_data\n",
        "    if test_data:\n",
        "        x_test, y_test = test_data\n",
        "    for j in range(epochs):\n",
        "        for i in range(x_train.shape[0] // mini_batch_size):\n",
        "            x_mini_batch = x_train[i*mini_batch_size:(i*mini_batch_size + mini_batch_size)]\n",
        "            y_mini_batch = y_train[i*mini_batch_size:(i*mini_batch_size + mini_batch_size)]\n",
        "            self.update_mini_batch(x_mini_batch, y_mini_batch, eta)\n",
        "        if test_data:\n",
        "            train_acc, train_loss = self.evaluate(x_train, y_train)\n",
        "            test_acc, test_loss = self.evaluate(x_test, y_test)\n",
        "\n",
        "            test_losses.append(test_loss)\n",
        "            train_losses.append(train_loss)\n",
        "            test_accuracies.append(test_acc)\n",
        "            train_accuracies.append(train_acc)\n",
        "\n",
        "            logger.report_scalar(title=\"loss\", series=\"train_loss\", value=train_loss, iteration=j)\n",
        "            logger.report_scalar(title=\"loss\", series=\"test_loss\", value=test_loss, iteration=j)\n",
        "            logger.report_scalar(title=\"accuracy\", series=\"train_acc\", value=train_acc, iteration=j)\n",
        "            logger.report_scalar(title=\"accuracy\", series=\"test_acc\", value=test_acc, iteration=j)\n",
        "\n",
        "            print(\"Epoch: {0}, Accuracy: {1}\".format(j, test_acc))\n",
        "        else:\n",
        "            print(\"Epoch: {0}\".format(j))\n",
        "    \n",
        "  \n",
        "    return train_losses, test_losses, train_accuracies, test_accuracies\n"
      ]
    },
    {
      "attachments": {},
      "cell_type": "markdown",
      "metadata": {
        "id": "_am34GLZ4Oga"
      },
      "source": [
        "# Train the network"
      ]
    },
    {
      "cell_type": "code",
      "execution_count": 7,
      "metadata": {
        "id": "7OmbsRwJ4QHL"
      },
      "outputs": [
        {
          "name": "stdout",
          "output_type": "stream",
          "text": [
            "Epoch: 0, Accuracy: 0.9196\n",
            "Epoch: 1, Accuracy: 0.9395\n",
            "Epoch: 2, Accuracy: 0.95\n",
            "Epoch: 3, Accuracy: 0.9542\n",
            "Epoch: 4, Accuracy: 0.9579\n",
            "Epoch: 5, Accuracy: 0.9603\n",
            "Epoch: 6, Accuracy: 0.9617\n",
            "Epoch: 7, Accuracy: 0.9639\n",
            "Epoch: 8, Accuracy: 0.9645\n",
            "Epoch: 9, Accuracy: 0.9656\n",
            "Epoch: 10, Accuracy: 0.9662\n",
            "Epoch: 11, Accuracy: 0.9659\n",
            "Epoch: 12, Accuracy: 0.9653\n",
            "Epoch: 13, Accuracy: 0.9661\n",
            "Epoch: 14, Accuracy: 0.9659\n",
            "Epoch: 15, Accuracy: 0.9658\n",
            "Epoch: 16, Accuracy: 0.9658\n",
            "Epoch: 17, Accuracy: 0.9653\n",
            "Epoch: 18, Accuracy: 0.9648\n",
            "Epoch: 19, Accuracy: 0.9648\n"
          ]
        },
        {
          "data": {
            "application/vnd.plotly.v1+json": {
              "config": {
                "plotlyServerURL": "https://plot.ly"
              },
              "data": [
                {
                  "hovertemplate": "<extra></extra>",
                  "legendgroup": "",
                  "line": {
                    "color": "#636efa",
                    "dash": "solid"
                  },
                  "marker": {
                    "symbol": "circle"
                  },
                  "mode": "lines",
                  "name": "",
                  "orientation": "v",
                  "showlegend": false,
                  "type": "scatter",
                  "xaxis": "x",
                  "yaxis": "y"
                },
                {
                  "name": "Train loss",
                  "type": "scatter",
                  "x": [
                    0,
                    1,
                    2,
                    3,
                    4,
                    5,
                    6,
                    7,
                    8,
                    9,
                    10,
                    11,
                    12,
                    13,
                    14,
                    15,
                    16,
                    17,
                    18,
                    19
                  ],
                  "y": [
                    0.45432054505618724,
                    0.33730844172239677,
                    0.27201555675255085,
                    0.22898040354706858,
                    0.19813678123089878,
                    0.1747650359644866,
                    0.15739563623973307,
                    0.1446289018100204,
                    0.1351568767675199,
                    0.12799987394694645,
                    0.12252645192248059,
                    0.11823671621427619,
                    0.11471920359704846,
                    0.11175016012464031,
                    0.10893662378149514,
                    0.10610938913421031,
                    0.1033781575166484,
                    0.100722486428343,
                    0.0982713012299855,
                    0.09638013026347571
                  ]
                },
                {
                  "name": "Test loss",
                  "type": "scatter",
                  "x": [
                    0,
                    1,
                    2,
                    3,
                    4,
                    5,
                    6,
                    7,
                    8,
                    9,
                    10,
                    11,
                    12,
                    13,
                    14,
                    15,
                    16,
                    17,
                    18,
                    19
                  ],
                  "y": [
                    0.4478936550694508,
                    0.34355285091912924,
                    0.2898096300291087,
                    0.256551547039081,
                    0.2346762568226576,
                    0.21979815949248732,
                    0.21010961948232806,
                    0.2042039606307341,
                    0.20077531092928644,
                    0.19918268863546518,
                    0.1992982194860405,
                    0.200831286599319,
                    0.20326509321729994,
                    0.20621481485283116,
                    0.20914192525373873,
                    0.21192676662445742,
                    0.21485501751994635,
                    0.2179702041644762,
                    0.2213324738963075,
                    0.22512910293641017
                  ]
                }
              ],
              "layout": {
                "legend": {
                  "tracegroupgap": 0
                },
                "margin": {
                  "t": 60
                },
                "template": {
                  "data": {
                    "bar": [
                      {
                        "error_x": {
                          "color": "#2a3f5f"
                        },
                        "error_y": {
                          "color": "#2a3f5f"
                        },
                        "marker": {
                          "line": {
                            "color": "#E5ECF6",
                            "width": 0.5
                          },
                          "pattern": {
                            "fillmode": "overlay",
                            "size": 10,
                            "solidity": 0.2
                          }
                        },
                        "type": "bar"
                      }
                    ],
                    "barpolar": [
                      {
                        "marker": {
                          "line": {
                            "color": "#E5ECF6",
                            "width": 0.5
                          },
                          "pattern": {
                            "fillmode": "overlay",
                            "size": 10,
                            "solidity": 0.2
                          }
                        },
                        "type": "barpolar"
                      }
                    ],
                    "carpet": [
                      {
                        "aaxis": {
                          "endlinecolor": "#2a3f5f",
                          "gridcolor": "white",
                          "linecolor": "white",
                          "minorgridcolor": "white",
                          "startlinecolor": "#2a3f5f"
                        },
                        "baxis": {
                          "endlinecolor": "#2a3f5f",
                          "gridcolor": "white",
                          "linecolor": "white",
                          "minorgridcolor": "white",
                          "startlinecolor": "#2a3f5f"
                        },
                        "type": "carpet"
                      }
                    ],
                    "choropleth": [
                      {
                        "colorbar": {
                          "outlinewidth": 0,
                          "ticks": ""
                        },
                        "type": "choropleth"
                      }
                    ],
                    "contour": [
                      {
                        "colorbar": {
                          "outlinewidth": 0,
                          "ticks": ""
                        },
                        "colorscale": [
                          [
                            0,
                            "#0d0887"
                          ],
                          [
                            0.1111111111111111,
                            "#46039f"
                          ],
                          [
                            0.2222222222222222,
                            "#7201a8"
                          ],
                          [
                            0.3333333333333333,
                            "#9c179e"
                          ],
                          [
                            0.4444444444444444,
                            "#bd3786"
                          ],
                          [
                            0.5555555555555556,
                            "#d8576b"
                          ],
                          [
                            0.6666666666666666,
                            "#ed7953"
                          ],
                          [
                            0.7777777777777778,
                            "#fb9f3a"
                          ],
                          [
                            0.8888888888888888,
                            "#fdca26"
                          ],
                          [
                            1,
                            "#f0f921"
                          ]
                        ],
                        "type": "contour"
                      }
                    ],
                    "contourcarpet": [
                      {
                        "colorbar": {
                          "outlinewidth": 0,
                          "ticks": ""
                        },
                        "type": "contourcarpet"
                      }
                    ],
                    "heatmap": [
                      {
                        "colorbar": {
                          "outlinewidth": 0,
                          "ticks": ""
                        },
                        "colorscale": [
                          [
                            0,
                            "#0d0887"
                          ],
                          [
                            0.1111111111111111,
                            "#46039f"
                          ],
                          [
                            0.2222222222222222,
                            "#7201a8"
                          ],
                          [
                            0.3333333333333333,
                            "#9c179e"
                          ],
                          [
                            0.4444444444444444,
                            "#bd3786"
                          ],
                          [
                            0.5555555555555556,
                            "#d8576b"
                          ],
                          [
                            0.6666666666666666,
                            "#ed7953"
                          ],
                          [
                            0.7777777777777778,
                            "#fb9f3a"
                          ],
                          [
                            0.8888888888888888,
                            "#fdca26"
                          ],
                          [
                            1,
                            "#f0f921"
                          ]
                        ],
                        "type": "heatmap"
                      }
                    ],
                    "heatmapgl": [
                      {
                        "colorbar": {
                          "outlinewidth": 0,
                          "ticks": ""
                        },
                        "colorscale": [
                          [
                            0,
                            "#0d0887"
                          ],
                          [
                            0.1111111111111111,
                            "#46039f"
                          ],
                          [
                            0.2222222222222222,
                            "#7201a8"
                          ],
                          [
                            0.3333333333333333,
                            "#9c179e"
                          ],
                          [
                            0.4444444444444444,
                            "#bd3786"
                          ],
                          [
                            0.5555555555555556,
                            "#d8576b"
                          ],
                          [
                            0.6666666666666666,
                            "#ed7953"
                          ],
                          [
                            0.7777777777777778,
                            "#fb9f3a"
                          ],
                          [
                            0.8888888888888888,
                            "#fdca26"
                          ],
                          [
                            1,
                            "#f0f921"
                          ]
                        ],
                        "type": "heatmapgl"
                      }
                    ],
                    "histogram": [
                      {
                        "marker": {
                          "pattern": {
                            "fillmode": "overlay",
                            "size": 10,
                            "solidity": 0.2
                          }
                        },
                        "type": "histogram"
                      }
                    ],
                    "histogram2d": [
                      {
                        "colorbar": {
                          "outlinewidth": 0,
                          "ticks": ""
                        },
                        "colorscale": [
                          [
                            0,
                            "#0d0887"
                          ],
                          [
                            0.1111111111111111,
                            "#46039f"
                          ],
                          [
                            0.2222222222222222,
                            "#7201a8"
                          ],
                          [
                            0.3333333333333333,
                            "#9c179e"
                          ],
                          [
                            0.4444444444444444,
                            "#bd3786"
                          ],
                          [
                            0.5555555555555556,
                            "#d8576b"
                          ],
                          [
                            0.6666666666666666,
                            "#ed7953"
                          ],
                          [
                            0.7777777777777778,
                            "#fb9f3a"
                          ],
                          [
                            0.8888888888888888,
                            "#fdca26"
                          ],
                          [
                            1,
                            "#f0f921"
                          ]
                        ],
                        "type": "histogram2d"
                      }
                    ],
                    "histogram2dcontour": [
                      {
                        "colorbar": {
                          "outlinewidth": 0,
                          "ticks": ""
                        },
                        "colorscale": [
                          [
                            0,
                            "#0d0887"
                          ],
                          [
                            0.1111111111111111,
                            "#46039f"
                          ],
                          [
                            0.2222222222222222,
                            "#7201a8"
                          ],
                          [
                            0.3333333333333333,
                            "#9c179e"
                          ],
                          [
                            0.4444444444444444,
                            "#bd3786"
                          ],
                          [
                            0.5555555555555556,
                            "#d8576b"
                          ],
                          [
                            0.6666666666666666,
                            "#ed7953"
                          ],
                          [
                            0.7777777777777778,
                            "#fb9f3a"
                          ],
                          [
                            0.8888888888888888,
                            "#fdca26"
                          ],
                          [
                            1,
                            "#f0f921"
                          ]
                        ],
                        "type": "histogram2dcontour"
                      }
                    ],
                    "mesh3d": [
                      {
                        "colorbar": {
                          "outlinewidth": 0,
                          "ticks": ""
                        },
                        "type": "mesh3d"
                      }
                    ],
                    "parcoords": [
                      {
                        "line": {
                          "colorbar": {
                            "outlinewidth": 0,
                            "ticks": ""
                          }
                        },
                        "type": "parcoords"
                      }
                    ],
                    "pie": [
                      {
                        "automargin": true,
                        "type": "pie"
                      }
                    ],
                    "scatter": [
                      {
                        "fillpattern": {
                          "fillmode": "overlay",
                          "size": 10,
                          "solidity": 0.2
                        },
                        "type": "scatter"
                      }
                    ],
                    "scatter3d": [
                      {
                        "line": {
                          "colorbar": {
                            "outlinewidth": 0,
                            "ticks": ""
                          }
                        },
                        "marker": {
                          "colorbar": {
                            "outlinewidth": 0,
                            "ticks": ""
                          }
                        },
                        "type": "scatter3d"
                      }
                    ],
                    "scattercarpet": [
                      {
                        "marker": {
                          "colorbar": {
                            "outlinewidth": 0,
                            "ticks": ""
                          }
                        },
                        "type": "scattercarpet"
                      }
                    ],
                    "scattergeo": [
                      {
                        "marker": {
                          "colorbar": {
                            "outlinewidth": 0,
                            "ticks": ""
                          }
                        },
                        "type": "scattergeo"
                      }
                    ],
                    "scattergl": [
                      {
                        "marker": {
                          "colorbar": {
                            "outlinewidth": 0,
                            "ticks": ""
                          }
                        },
                        "type": "scattergl"
                      }
                    ],
                    "scattermapbox": [
                      {
                        "marker": {
                          "colorbar": {
                            "outlinewidth": 0,
                            "ticks": ""
                          }
                        },
                        "type": "scattermapbox"
                      }
                    ],
                    "scatterpolar": [
                      {
                        "marker": {
                          "colorbar": {
                            "outlinewidth": 0,
                            "ticks": ""
                          }
                        },
                        "type": "scatterpolar"
                      }
                    ],
                    "scatterpolargl": [
                      {
                        "marker": {
                          "colorbar": {
                            "outlinewidth": 0,
                            "ticks": ""
                          }
                        },
                        "type": "scatterpolargl"
                      }
                    ],
                    "scatterternary": [
                      {
                        "marker": {
                          "colorbar": {
                            "outlinewidth": 0,
                            "ticks": ""
                          }
                        },
                        "type": "scatterternary"
                      }
                    ],
                    "surface": [
                      {
                        "colorbar": {
                          "outlinewidth": 0,
                          "ticks": ""
                        },
                        "colorscale": [
                          [
                            0,
                            "#0d0887"
                          ],
                          [
                            0.1111111111111111,
                            "#46039f"
                          ],
                          [
                            0.2222222222222222,
                            "#7201a8"
                          ],
                          [
                            0.3333333333333333,
                            "#9c179e"
                          ],
                          [
                            0.4444444444444444,
                            "#bd3786"
                          ],
                          [
                            0.5555555555555556,
                            "#d8576b"
                          ],
                          [
                            0.6666666666666666,
                            "#ed7953"
                          ],
                          [
                            0.7777777777777778,
                            "#fb9f3a"
                          ],
                          [
                            0.8888888888888888,
                            "#fdca26"
                          ],
                          [
                            1,
                            "#f0f921"
                          ]
                        ],
                        "type": "surface"
                      }
                    ],
                    "table": [
                      {
                        "cells": {
                          "fill": {
                            "color": "#EBF0F8"
                          },
                          "line": {
                            "color": "white"
                          }
                        },
                        "header": {
                          "fill": {
                            "color": "#C8D4E3"
                          },
                          "line": {
                            "color": "white"
                          }
                        },
                        "type": "table"
                      }
                    ]
                  },
                  "layout": {
                    "annotationdefaults": {
                      "arrowcolor": "#2a3f5f",
                      "arrowhead": 0,
                      "arrowwidth": 1
                    },
                    "autotypenumbers": "strict",
                    "coloraxis": {
                      "colorbar": {
                        "outlinewidth": 0,
                        "ticks": ""
                      }
                    },
                    "colorscale": {
                      "diverging": [
                        [
                          0,
                          "#8e0152"
                        ],
                        [
                          0.1,
                          "#c51b7d"
                        ],
                        [
                          0.2,
                          "#de77ae"
                        ],
                        [
                          0.3,
                          "#f1b6da"
                        ],
                        [
                          0.4,
                          "#fde0ef"
                        ],
                        [
                          0.5,
                          "#f7f7f7"
                        ],
                        [
                          0.6,
                          "#e6f5d0"
                        ],
                        [
                          0.7,
                          "#b8e186"
                        ],
                        [
                          0.8,
                          "#7fbc41"
                        ],
                        [
                          0.9,
                          "#4d9221"
                        ],
                        [
                          1,
                          "#276419"
                        ]
                      ],
                      "sequential": [
                        [
                          0,
                          "#0d0887"
                        ],
                        [
                          0.1111111111111111,
                          "#46039f"
                        ],
                        [
                          0.2222222222222222,
                          "#7201a8"
                        ],
                        [
                          0.3333333333333333,
                          "#9c179e"
                        ],
                        [
                          0.4444444444444444,
                          "#bd3786"
                        ],
                        [
                          0.5555555555555556,
                          "#d8576b"
                        ],
                        [
                          0.6666666666666666,
                          "#ed7953"
                        ],
                        [
                          0.7777777777777778,
                          "#fb9f3a"
                        ],
                        [
                          0.8888888888888888,
                          "#fdca26"
                        ],
                        [
                          1,
                          "#f0f921"
                        ]
                      ],
                      "sequentialminus": [
                        [
                          0,
                          "#0d0887"
                        ],
                        [
                          0.1111111111111111,
                          "#46039f"
                        ],
                        [
                          0.2222222222222222,
                          "#7201a8"
                        ],
                        [
                          0.3333333333333333,
                          "#9c179e"
                        ],
                        [
                          0.4444444444444444,
                          "#bd3786"
                        ],
                        [
                          0.5555555555555556,
                          "#d8576b"
                        ],
                        [
                          0.6666666666666666,
                          "#ed7953"
                        ],
                        [
                          0.7777777777777778,
                          "#fb9f3a"
                        ],
                        [
                          0.8888888888888888,
                          "#fdca26"
                        ],
                        [
                          1,
                          "#f0f921"
                        ]
                      ]
                    },
                    "colorway": [
                      "#636efa",
                      "#EF553B",
                      "#00cc96",
                      "#ab63fa",
                      "#FFA15A",
                      "#19d3f3",
                      "#FF6692",
                      "#B6E880",
                      "#FF97FF",
                      "#FECB52"
                    ],
                    "font": {
                      "color": "#2a3f5f"
                    },
                    "geo": {
                      "bgcolor": "white",
                      "lakecolor": "white",
                      "landcolor": "#E5ECF6",
                      "showlakes": true,
                      "showland": true,
                      "subunitcolor": "white"
                    },
                    "hoverlabel": {
                      "align": "left"
                    },
                    "hovermode": "closest",
                    "mapbox": {
                      "style": "light"
                    },
                    "paper_bgcolor": "white",
                    "plot_bgcolor": "#E5ECF6",
                    "polar": {
                      "angularaxis": {
                        "gridcolor": "white",
                        "linecolor": "white",
                        "ticks": ""
                      },
                      "bgcolor": "#E5ECF6",
                      "radialaxis": {
                        "gridcolor": "white",
                        "linecolor": "white",
                        "ticks": ""
                      }
                    },
                    "scene": {
                      "xaxis": {
                        "backgroundcolor": "#E5ECF6",
                        "gridcolor": "white",
                        "gridwidth": 2,
                        "linecolor": "white",
                        "showbackground": true,
                        "ticks": "",
                        "zerolinecolor": "white"
                      },
                      "yaxis": {
                        "backgroundcolor": "#E5ECF6",
                        "gridcolor": "white",
                        "gridwidth": 2,
                        "linecolor": "white",
                        "showbackground": true,
                        "ticks": "",
                        "zerolinecolor": "white"
                      },
                      "zaxis": {
                        "backgroundcolor": "#E5ECF6",
                        "gridcolor": "white",
                        "gridwidth": 2,
                        "linecolor": "white",
                        "showbackground": true,
                        "ticks": "",
                        "zerolinecolor": "white"
                      }
                    },
                    "shapedefaults": {
                      "line": {
                        "color": "#2a3f5f"
                      }
                    },
                    "ternary": {
                      "aaxis": {
                        "gridcolor": "white",
                        "linecolor": "white",
                        "ticks": ""
                      },
                      "baxis": {
                        "gridcolor": "white",
                        "linecolor": "white",
                        "ticks": ""
                      },
                      "bgcolor": "#E5ECF6",
                      "caxis": {
                        "gridcolor": "white",
                        "linecolor": "white",
                        "ticks": ""
                      }
                    },
                    "title": {
                      "x": 0.05
                    },
                    "xaxis": {
                      "automargin": true,
                      "gridcolor": "white",
                      "linecolor": "white",
                      "ticks": "",
                      "title": {
                        "standoff": 15
                      },
                      "zerolinecolor": "white",
                      "zerolinewidth": 2
                    },
                    "yaxis": {
                      "automargin": true,
                      "gridcolor": "white",
                      "linecolor": "white",
                      "ticks": "",
                      "title": {
                        "standoff": 15
                      },
                      "zerolinecolor": "white",
                      "zerolinewidth": 2
                    }
                  }
                },
                "xaxis": {
                  "anchor": "y",
                  "domain": [
                    0,
                    1
                  ]
                },
                "yaxis": {
                  "anchor": "x",
                  "domain": [
                    0,
                    1
                  ]
                }
              }
            }
          },
          "metadata": {},
          "output_type": "display_data"
        },
        {
          "data": {
            "application/vnd.plotly.v1+json": {
              "config": {
                "plotlyServerURL": "https://plot.ly"
              },
              "data": [
                {
                  "hovertemplate": "<extra></extra>",
                  "legendgroup": "",
                  "line": {
                    "color": "#636efa",
                    "dash": "solid"
                  },
                  "marker": {
                    "symbol": "circle"
                  },
                  "mode": "lines",
                  "name": "",
                  "orientation": "v",
                  "showlegend": false,
                  "type": "scatter",
                  "xaxis": "x",
                  "yaxis": "y"
                },
                {
                  "name": "Train accuracy",
                  "type": "scatter",
                  "x": [
                    0,
                    1,
                    2,
                    3,
                    4,
                    5,
                    6,
                    7,
                    8,
                    9,
                    10,
                    11,
                    12,
                    13,
                    14,
                    15,
                    16,
                    17,
                    18,
                    19
                  ],
                  "y": [
                    0.91775,
                    0.93945,
                    0.9515,
                    0.9600166666666666,
                    0.96575,
                    0.9696,
                    0.9723,
                    0.9744666666666667,
                    0.9760166666666666,
                    0.9769833333333333,
                    0.9775,
                    0.9781833333333333,
                    0.9787833333333333,
                    0.9792833333333333,
                    0.9795,
                    0.9800666666666666,
                    0.9806666666666667,
                    0.9809666666666667,
                    0.9810333333333333,
                    0.9812
                  ]
                },
                {
                  "name": "Test accuracy",
                  "type": "scatter",
                  "x": [
                    0,
                    1,
                    2,
                    3,
                    4,
                    5,
                    6,
                    7,
                    8,
                    9,
                    10,
                    11,
                    12,
                    13,
                    14,
                    15,
                    16,
                    17,
                    18,
                    19
                  ],
                  "y": [
                    0.9196,
                    0.9395,
                    0.95,
                    0.9542,
                    0.9579,
                    0.9603,
                    0.9617,
                    0.9639,
                    0.9645,
                    0.9656,
                    0.9662,
                    0.9659,
                    0.9653,
                    0.9661,
                    0.9659,
                    0.9658,
                    0.9658,
                    0.9653,
                    0.9648,
                    0.9648
                  ]
                }
              ],
              "layout": {
                "legend": {
                  "tracegroupgap": 0
                },
                "margin": {
                  "t": 60
                },
                "template": {
                  "data": {
                    "bar": [
                      {
                        "error_x": {
                          "color": "#2a3f5f"
                        },
                        "error_y": {
                          "color": "#2a3f5f"
                        },
                        "marker": {
                          "line": {
                            "color": "#E5ECF6",
                            "width": 0.5
                          },
                          "pattern": {
                            "fillmode": "overlay",
                            "size": 10,
                            "solidity": 0.2
                          }
                        },
                        "type": "bar"
                      }
                    ],
                    "barpolar": [
                      {
                        "marker": {
                          "line": {
                            "color": "#E5ECF6",
                            "width": 0.5
                          },
                          "pattern": {
                            "fillmode": "overlay",
                            "size": 10,
                            "solidity": 0.2
                          }
                        },
                        "type": "barpolar"
                      }
                    ],
                    "carpet": [
                      {
                        "aaxis": {
                          "endlinecolor": "#2a3f5f",
                          "gridcolor": "white",
                          "linecolor": "white",
                          "minorgridcolor": "white",
                          "startlinecolor": "#2a3f5f"
                        },
                        "baxis": {
                          "endlinecolor": "#2a3f5f",
                          "gridcolor": "white",
                          "linecolor": "white",
                          "minorgridcolor": "white",
                          "startlinecolor": "#2a3f5f"
                        },
                        "type": "carpet"
                      }
                    ],
                    "choropleth": [
                      {
                        "colorbar": {
                          "outlinewidth": 0,
                          "ticks": ""
                        },
                        "type": "choropleth"
                      }
                    ],
                    "contour": [
                      {
                        "colorbar": {
                          "outlinewidth": 0,
                          "ticks": ""
                        },
                        "colorscale": [
                          [
                            0,
                            "#0d0887"
                          ],
                          [
                            0.1111111111111111,
                            "#46039f"
                          ],
                          [
                            0.2222222222222222,
                            "#7201a8"
                          ],
                          [
                            0.3333333333333333,
                            "#9c179e"
                          ],
                          [
                            0.4444444444444444,
                            "#bd3786"
                          ],
                          [
                            0.5555555555555556,
                            "#d8576b"
                          ],
                          [
                            0.6666666666666666,
                            "#ed7953"
                          ],
                          [
                            0.7777777777777778,
                            "#fb9f3a"
                          ],
                          [
                            0.8888888888888888,
                            "#fdca26"
                          ],
                          [
                            1,
                            "#f0f921"
                          ]
                        ],
                        "type": "contour"
                      }
                    ],
                    "contourcarpet": [
                      {
                        "colorbar": {
                          "outlinewidth": 0,
                          "ticks": ""
                        },
                        "type": "contourcarpet"
                      }
                    ],
                    "heatmap": [
                      {
                        "colorbar": {
                          "outlinewidth": 0,
                          "ticks": ""
                        },
                        "colorscale": [
                          [
                            0,
                            "#0d0887"
                          ],
                          [
                            0.1111111111111111,
                            "#46039f"
                          ],
                          [
                            0.2222222222222222,
                            "#7201a8"
                          ],
                          [
                            0.3333333333333333,
                            "#9c179e"
                          ],
                          [
                            0.4444444444444444,
                            "#bd3786"
                          ],
                          [
                            0.5555555555555556,
                            "#d8576b"
                          ],
                          [
                            0.6666666666666666,
                            "#ed7953"
                          ],
                          [
                            0.7777777777777778,
                            "#fb9f3a"
                          ],
                          [
                            0.8888888888888888,
                            "#fdca26"
                          ],
                          [
                            1,
                            "#f0f921"
                          ]
                        ],
                        "type": "heatmap"
                      }
                    ],
                    "heatmapgl": [
                      {
                        "colorbar": {
                          "outlinewidth": 0,
                          "ticks": ""
                        },
                        "colorscale": [
                          [
                            0,
                            "#0d0887"
                          ],
                          [
                            0.1111111111111111,
                            "#46039f"
                          ],
                          [
                            0.2222222222222222,
                            "#7201a8"
                          ],
                          [
                            0.3333333333333333,
                            "#9c179e"
                          ],
                          [
                            0.4444444444444444,
                            "#bd3786"
                          ],
                          [
                            0.5555555555555556,
                            "#d8576b"
                          ],
                          [
                            0.6666666666666666,
                            "#ed7953"
                          ],
                          [
                            0.7777777777777778,
                            "#fb9f3a"
                          ],
                          [
                            0.8888888888888888,
                            "#fdca26"
                          ],
                          [
                            1,
                            "#f0f921"
                          ]
                        ],
                        "type": "heatmapgl"
                      }
                    ],
                    "histogram": [
                      {
                        "marker": {
                          "pattern": {
                            "fillmode": "overlay",
                            "size": 10,
                            "solidity": 0.2
                          }
                        },
                        "type": "histogram"
                      }
                    ],
                    "histogram2d": [
                      {
                        "colorbar": {
                          "outlinewidth": 0,
                          "ticks": ""
                        },
                        "colorscale": [
                          [
                            0,
                            "#0d0887"
                          ],
                          [
                            0.1111111111111111,
                            "#46039f"
                          ],
                          [
                            0.2222222222222222,
                            "#7201a8"
                          ],
                          [
                            0.3333333333333333,
                            "#9c179e"
                          ],
                          [
                            0.4444444444444444,
                            "#bd3786"
                          ],
                          [
                            0.5555555555555556,
                            "#d8576b"
                          ],
                          [
                            0.6666666666666666,
                            "#ed7953"
                          ],
                          [
                            0.7777777777777778,
                            "#fb9f3a"
                          ],
                          [
                            0.8888888888888888,
                            "#fdca26"
                          ],
                          [
                            1,
                            "#f0f921"
                          ]
                        ],
                        "type": "histogram2d"
                      }
                    ],
                    "histogram2dcontour": [
                      {
                        "colorbar": {
                          "outlinewidth": 0,
                          "ticks": ""
                        },
                        "colorscale": [
                          [
                            0,
                            "#0d0887"
                          ],
                          [
                            0.1111111111111111,
                            "#46039f"
                          ],
                          [
                            0.2222222222222222,
                            "#7201a8"
                          ],
                          [
                            0.3333333333333333,
                            "#9c179e"
                          ],
                          [
                            0.4444444444444444,
                            "#bd3786"
                          ],
                          [
                            0.5555555555555556,
                            "#d8576b"
                          ],
                          [
                            0.6666666666666666,
                            "#ed7953"
                          ],
                          [
                            0.7777777777777778,
                            "#fb9f3a"
                          ],
                          [
                            0.8888888888888888,
                            "#fdca26"
                          ],
                          [
                            1,
                            "#f0f921"
                          ]
                        ],
                        "type": "histogram2dcontour"
                      }
                    ],
                    "mesh3d": [
                      {
                        "colorbar": {
                          "outlinewidth": 0,
                          "ticks": ""
                        },
                        "type": "mesh3d"
                      }
                    ],
                    "parcoords": [
                      {
                        "line": {
                          "colorbar": {
                            "outlinewidth": 0,
                            "ticks": ""
                          }
                        },
                        "type": "parcoords"
                      }
                    ],
                    "pie": [
                      {
                        "automargin": true,
                        "type": "pie"
                      }
                    ],
                    "scatter": [
                      {
                        "fillpattern": {
                          "fillmode": "overlay",
                          "size": 10,
                          "solidity": 0.2
                        },
                        "type": "scatter"
                      }
                    ],
                    "scatter3d": [
                      {
                        "line": {
                          "colorbar": {
                            "outlinewidth": 0,
                            "ticks": ""
                          }
                        },
                        "marker": {
                          "colorbar": {
                            "outlinewidth": 0,
                            "ticks": ""
                          }
                        },
                        "type": "scatter3d"
                      }
                    ],
                    "scattercarpet": [
                      {
                        "marker": {
                          "colorbar": {
                            "outlinewidth": 0,
                            "ticks": ""
                          }
                        },
                        "type": "scattercarpet"
                      }
                    ],
                    "scattergeo": [
                      {
                        "marker": {
                          "colorbar": {
                            "outlinewidth": 0,
                            "ticks": ""
                          }
                        },
                        "type": "scattergeo"
                      }
                    ],
                    "scattergl": [
                      {
                        "marker": {
                          "colorbar": {
                            "outlinewidth": 0,
                            "ticks": ""
                          }
                        },
                        "type": "scattergl"
                      }
                    ],
                    "scattermapbox": [
                      {
                        "marker": {
                          "colorbar": {
                            "outlinewidth": 0,
                            "ticks": ""
                          }
                        },
                        "type": "scattermapbox"
                      }
                    ],
                    "scatterpolar": [
                      {
                        "marker": {
                          "colorbar": {
                            "outlinewidth": 0,
                            "ticks": ""
                          }
                        },
                        "type": "scatterpolar"
                      }
                    ],
                    "scatterpolargl": [
                      {
                        "marker": {
                          "colorbar": {
                            "outlinewidth": 0,
                            "ticks": ""
                          }
                        },
                        "type": "scatterpolargl"
                      }
                    ],
                    "scatterternary": [
                      {
                        "marker": {
                          "colorbar": {
                            "outlinewidth": 0,
                            "ticks": ""
                          }
                        },
                        "type": "scatterternary"
                      }
                    ],
                    "surface": [
                      {
                        "colorbar": {
                          "outlinewidth": 0,
                          "ticks": ""
                        },
                        "colorscale": [
                          [
                            0,
                            "#0d0887"
                          ],
                          [
                            0.1111111111111111,
                            "#46039f"
                          ],
                          [
                            0.2222222222222222,
                            "#7201a8"
                          ],
                          [
                            0.3333333333333333,
                            "#9c179e"
                          ],
                          [
                            0.4444444444444444,
                            "#bd3786"
                          ],
                          [
                            0.5555555555555556,
                            "#d8576b"
                          ],
                          [
                            0.6666666666666666,
                            "#ed7953"
                          ],
                          [
                            0.7777777777777778,
                            "#fb9f3a"
                          ],
                          [
                            0.8888888888888888,
                            "#fdca26"
                          ],
                          [
                            1,
                            "#f0f921"
                          ]
                        ],
                        "type": "surface"
                      }
                    ],
                    "table": [
                      {
                        "cells": {
                          "fill": {
                            "color": "#EBF0F8"
                          },
                          "line": {
                            "color": "white"
                          }
                        },
                        "header": {
                          "fill": {
                            "color": "#C8D4E3"
                          },
                          "line": {
                            "color": "white"
                          }
                        },
                        "type": "table"
                      }
                    ]
                  },
                  "layout": {
                    "annotationdefaults": {
                      "arrowcolor": "#2a3f5f",
                      "arrowhead": 0,
                      "arrowwidth": 1
                    },
                    "autotypenumbers": "strict",
                    "coloraxis": {
                      "colorbar": {
                        "outlinewidth": 0,
                        "ticks": ""
                      }
                    },
                    "colorscale": {
                      "diverging": [
                        [
                          0,
                          "#8e0152"
                        ],
                        [
                          0.1,
                          "#c51b7d"
                        ],
                        [
                          0.2,
                          "#de77ae"
                        ],
                        [
                          0.3,
                          "#f1b6da"
                        ],
                        [
                          0.4,
                          "#fde0ef"
                        ],
                        [
                          0.5,
                          "#f7f7f7"
                        ],
                        [
                          0.6,
                          "#e6f5d0"
                        ],
                        [
                          0.7,
                          "#b8e186"
                        ],
                        [
                          0.8,
                          "#7fbc41"
                        ],
                        [
                          0.9,
                          "#4d9221"
                        ],
                        [
                          1,
                          "#276419"
                        ]
                      ],
                      "sequential": [
                        [
                          0,
                          "#0d0887"
                        ],
                        [
                          0.1111111111111111,
                          "#46039f"
                        ],
                        [
                          0.2222222222222222,
                          "#7201a8"
                        ],
                        [
                          0.3333333333333333,
                          "#9c179e"
                        ],
                        [
                          0.4444444444444444,
                          "#bd3786"
                        ],
                        [
                          0.5555555555555556,
                          "#d8576b"
                        ],
                        [
                          0.6666666666666666,
                          "#ed7953"
                        ],
                        [
                          0.7777777777777778,
                          "#fb9f3a"
                        ],
                        [
                          0.8888888888888888,
                          "#fdca26"
                        ],
                        [
                          1,
                          "#f0f921"
                        ]
                      ],
                      "sequentialminus": [
                        [
                          0,
                          "#0d0887"
                        ],
                        [
                          0.1111111111111111,
                          "#46039f"
                        ],
                        [
                          0.2222222222222222,
                          "#7201a8"
                        ],
                        [
                          0.3333333333333333,
                          "#9c179e"
                        ],
                        [
                          0.4444444444444444,
                          "#bd3786"
                        ],
                        [
                          0.5555555555555556,
                          "#d8576b"
                        ],
                        [
                          0.6666666666666666,
                          "#ed7953"
                        ],
                        [
                          0.7777777777777778,
                          "#fb9f3a"
                        ],
                        [
                          0.8888888888888888,
                          "#fdca26"
                        ],
                        [
                          1,
                          "#f0f921"
                        ]
                      ]
                    },
                    "colorway": [
                      "#636efa",
                      "#EF553B",
                      "#00cc96",
                      "#ab63fa",
                      "#FFA15A",
                      "#19d3f3",
                      "#FF6692",
                      "#B6E880",
                      "#FF97FF",
                      "#FECB52"
                    ],
                    "font": {
                      "color": "#2a3f5f"
                    },
                    "geo": {
                      "bgcolor": "white",
                      "lakecolor": "white",
                      "landcolor": "#E5ECF6",
                      "showlakes": true,
                      "showland": true,
                      "subunitcolor": "white"
                    },
                    "hoverlabel": {
                      "align": "left"
                    },
                    "hovermode": "closest",
                    "mapbox": {
                      "style": "light"
                    },
                    "paper_bgcolor": "white",
                    "plot_bgcolor": "#E5ECF6",
                    "polar": {
                      "angularaxis": {
                        "gridcolor": "white",
                        "linecolor": "white",
                        "ticks": ""
                      },
                      "bgcolor": "#E5ECF6",
                      "radialaxis": {
                        "gridcolor": "white",
                        "linecolor": "white",
                        "ticks": ""
                      }
                    },
                    "scene": {
                      "xaxis": {
                        "backgroundcolor": "#E5ECF6",
                        "gridcolor": "white",
                        "gridwidth": 2,
                        "linecolor": "white",
                        "showbackground": true,
                        "ticks": "",
                        "zerolinecolor": "white"
                      },
                      "yaxis": {
                        "backgroundcolor": "#E5ECF6",
                        "gridcolor": "white",
                        "gridwidth": 2,
                        "linecolor": "white",
                        "showbackground": true,
                        "ticks": "",
                        "zerolinecolor": "white"
                      },
                      "zaxis": {
                        "backgroundcolor": "#E5ECF6",
                        "gridcolor": "white",
                        "gridwidth": 2,
                        "linecolor": "white",
                        "showbackground": true,
                        "ticks": "",
                        "zerolinecolor": "white"
                      }
                    },
                    "shapedefaults": {
                      "line": {
                        "color": "#2a3f5f"
                      }
                    },
                    "ternary": {
                      "aaxis": {
                        "gridcolor": "white",
                        "linecolor": "white",
                        "ticks": ""
                      },
                      "baxis": {
                        "gridcolor": "white",
                        "linecolor": "white",
                        "ticks": ""
                      },
                      "bgcolor": "#E5ECF6",
                      "caxis": {
                        "gridcolor": "white",
                        "linecolor": "white",
                        "ticks": ""
                      }
                    },
                    "title": {
                      "x": 0.05
                    },
                    "xaxis": {
                      "automargin": true,
                      "gridcolor": "white",
                      "linecolor": "white",
                      "ticks": "",
                      "title": {
                        "standoff": 15
                      },
                      "zerolinecolor": "white",
                      "zerolinewidth": 2
                    },
                    "yaxis": {
                      "automargin": true,
                      "gridcolor": "white",
                      "linecolor": "white",
                      "ticks": "",
                      "title": {
                        "standoff": 15
                      },
                      "zerolinecolor": "white",
                      "zerolinewidth": 2
                    }
                  }
                },
                "xaxis": {
                  "anchor": "y",
                  "domain": [
                    0,
                    1
                  ]
                },
                "yaxis": {
                  "anchor": "x",
                  "domain": [
                    0,
                    1
                  ]
                }
              }
            }
          },
          "metadata": {},
          "output_type": "display_data"
        }
      ],
      "source": [
        "### Your code goes here ###\n",
        "\n",
        "network = ReVNet([784, 40, 40, 10])\n",
        "train_losses, test_losses, train_accuracies, test_accuracies = network.SGD((x_train, y_train), epochs=20, mini_batch_size=100, eta=1, test_data=(x_test, y_test))\n",
        "\n",
        "# plotply loss in one chart\n",
        "fig = px.line()\n",
        "fig.add_scatter(x=np.arange(len(train_losses)), y=train_losses, name=\"Train loss\")\n",
        "fig.add_scatter(x=np.arange(len(test_losses)), y=test_losses, name=\"Test loss\")\n",
        "fig.show()\n",
        "\n",
        "# plotply accuracy in one chart\n",
        "fig = px.line()\n",
        "fig.add_scatter(x=np.arange(len(train_accuracies)), y=train_accuracies, name=\"Train accuracy\")\n",
        "fig.add_scatter(x=np.arange(len(test_accuracies)), y=test_accuracies, name=\"Test accuracy\")\n",
        "fig.show()\n",
        "\n",
        "###########################"
      ]
    },
    {
      "attachments": {},
      "cell_type": "markdown",
      "metadata": {
        "id": "aChkzDTD5zWE"
      },
      "source": [
        "# Training plots for the best training"
      ]
    },
    {
      "attachments": {},
      "cell_type": "markdown",
      "metadata": {
        "id": "isRNV1aX56K8"
      },
      "source": [
        "\n",
        "Link to clear_ml: https://app.clear.ml/projects/1801f60a804a4b128ae70e6afb5f4c0a/experiments/ad0a825653ad42eaa885f02c042d6652/output/execution\n",
        "\n",
        "Hyperparameters used for the best training:\n",
        "```\n",
        "epochs: 20\t\n",
        "eta: 1\n",
        "mini_batch_size: 100\t\n",
        "sizes: [784, 40, 40, 10]\t\n",
        "```\n",
        "\n",
        "![title](HW_1_accuracy.png)\n",
        "![title](HW_1_loss.png )"
      ]
    },
    {
      "attachments": {},
      "cell_type": "markdown",
      "metadata": {
        "id": "cmQGf9p_6eKw"
      },
      "source": [
        "# Compare memory usage\n",
        "\n",
        "Hint: you can use memory-profiler library [link](https://pypi.org/project/memory-profiler/)"
      ]
    },
    {
      "cell_type": "code",
      "execution_count": 8,
      "metadata": {
        "id": "0VjPqSEG6gJC"
      },
      "outputs": [
        {
          "name": "stdout",
          "output_type": "stream",
          "text": [
            "Reversible neural network: \n",
            "Epoch: 0\n",
            "peak memory: 987.69 MiB, increment: 88.09 MiB\n",
            "Classic neural network: \n",
            "Epoch: 0\n",
            "peak memory: 1152.84 MiB, increment: 251.73 MiB\n"
          ]
        }
      ],
      "source": [
        " ### Your code goes here ###\n",
        "\n",
        "import gc\n",
        "import ctypes\n",
        "\n",
        "\n",
        "def revnet_demo():\n",
        "    network = ReVNet([784, 100, 100, 100, 100, 100, 100, 100, 10])\n",
        "    _ = network.SGD((x_train, y_train), epochs=1, mini_batch_size=10000, eta=0.001)\n",
        "\n",
        "def classic_net_demo():\n",
        "    network = Network([784, 100, 100, 100, 100, 100, 100, 100, 10])\n",
        "    _ = network.SGD((x_train, y_train), epochs=1, mini_batch_size=10000, eta=0.001)\n",
        "\n",
        "\n",
        "print(\"Reversible neural network: \")\n",
        "\n",
        "gc.collect()\n",
        "libc = ctypes.CDLL(\"libc.so.6\") # clearing cache \n",
        "libc.malloc_trim(0)\n",
        "\n",
        "%memit revnet_demo()\n",
        "\n",
        "print(\"Classic neural network: \")\n",
        "\n",
        "gc.collect()\n",
        "libc = ctypes.CDLL(\"libc.so.6\") # clearing cache \n",
        "libc.malloc_trim(0)\n",
        "\n",
        "%memit classic_net_demo()\n",
        "\n",
        "###########################"
      ]
    },
    {
      "cell_type": "code",
      "execution_count": null,
      "metadata": {},
      "outputs": [],
      "source": []
    }
  ],
  "metadata": {
    "colab": {
      "provenance": []
    },
    "kernelspec": {
      "display_name": "Python 3",
      "name": "python3"
    },
    "language_info": {
      "codemirror_mode": {
        "name": "ipython",
        "version": 3
      },
      "file_extension": ".py",
      "mimetype": "text/x-python",
      "name": "python",
      "nbconvert_exporter": "python",
      "pygments_lexer": "ipython3",
      "version": "3.9.17"
    }
  },
  "nbformat": 4,
  "nbformat_minor": 0
}
